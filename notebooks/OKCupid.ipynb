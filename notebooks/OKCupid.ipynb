{
  "cells": [
    {
      "cell_type": "code",
      "execution_count": 1,
      "metadata": {
        "id": "qz2sRXU_qnfV"
      },
      "outputs": [],
      "source": [
        "import pandas as pd\n",
        "import seaborn as sns\n",
        "import numpy as np"
      ]
    },
    {
      "cell_type": "code",
      "execution_count": 290,
      "metadata": {
        "id": "2S-_kFGizwy1"
      },
      "outputs": [],
      "source": [
        "df = pd.read_csv('okcupid_profiles.csv')"
      ]
    },
    {
      "cell_type": "code",
      "execution_count": 291,
      "metadata": {
        "colab": {
          "base_uri": "https://localhost:8080/"
        },
        "id": "WG5t9bYEfvzv",
        "outputId": "80884b38-b9c8-4d2c-a8b7-2941f6c5991c"
      },
      "outputs": [
        {
          "name": "stderr",
          "output_type": "stream",
          "text": [
            "/usr/local/lib/python3.8/dist-packages/pandas/core/frame.py:4906: SettingWithCopyWarning: \n",
            "A value is trying to be set on a copy of a slice from a DataFrame\n",
            "\n",
            "See the caveats in the documentation: https://pandas.pydata.org/pandas-docs/stable/user_guide/indexing.html#returning-a-view-versus-a-copy\n",
            "  return super().drop(\n"
          ]
        }
      ],
      "source": [
        "df = df[[x for x in df.columns if not x.startswith('essay')]]\n",
        "df.drop(columns=['speaks', 'location'], inplace=True)"
      ]
    },
    {
      "cell_type": "code",
      "execution_count": 292,
      "metadata": {
        "colab": {
          "base_uri": "https://localhost:8080/",
          "height": 531
        },
        "id": "K0rWzQbpgLA3",
        "outputId": "425f1f5e-dc9d-495f-b0f1-2ca5e2022a9e"
      },
      "outputs": [
        {
          "data": {
            "text/html": [
              "\n",
              "  <div id=\"df-ecc0011f-7f11-4819-addf-e5394db27624\">\n",
              "    <div class=\"colab-df-container\">\n",
              "      <div>\n",
              "<style scoped>\n",
              "    .dataframe tbody tr th:only-of-type {\n",
              "        vertical-align: middle;\n",
              "    }\n",
              "\n",
              "    .dataframe tbody tr th {\n",
              "        vertical-align: top;\n",
              "    }\n",
              "\n",
              "    .dataframe thead th {\n",
              "        text-align: right;\n",
              "    }\n",
              "</style>\n",
              "<table border=\"1\" class=\"dataframe\">\n",
              "  <thead>\n",
              "    <tr style=\"text-align: right;\">\n",
              "      <th></th>\n",
              "      <th>age</th>\n",
              "      <th>status</th>\n",
              "      <th>sex</th>\n",
              "      <th>orientation</th>\n",
              "      <th>body_type</th>\n",
              "      <th>diet</th>\n",
              "      <th>drinks</th>\n",
              "      <th>drugs</th>\n",
              "      <th>education</th>\n",
              "      <th>ethnicity</th>\n",
              "      <th>height</th>\n",
              "      <th>income</th>\n",
              "      <th>job</th>\n",
              "      <th>last_online</th>\n",
              "      <th>offspring</th>\n",
              "      <th>pets</th>\n",
              "      <th>religion</th>\n",
              "      <th>sign</th>\n",
              "      <th>smokes</th>\n",
              "    </tr>\n",
              "  </thead>\n",
              "  <tbody>\n",
              "    <tr>\n",
              "      <th>0</th>\n",
              "      <td>22</td>\n",
              "      <td>single</td>\n",
              "      <td>m</td>\n",
              "      <td>straight</td>\n",
              "      <td>a little extra</td>\n",
              "      <td>strictly anything</td>\n",
              "      <td>socially</td>\n",
              "      <td>never</td>\n",
              "      <td>working on college/university</td>\n",
              "      <td>asian, white</td>\n",
              "      <td>75.0</td>\n",
              "      <td>-1</td>\n",
              "      <td>transportation</td>\n",
              "      <td>2012-06-28-20-30</td>\n",
              "      <td>doesn't have kids, but might want them</td>\n",
              "      <td>likes dogs and likes cats</td>\n",
              "      <td>agnosticism and very serious about it</td>\n",
              "      <td>gemini</td>\n",
              "      <td>sometimes</td>\n",
              "    </tr>\n",
              "    <tr>\n",
              "      <th>1</th>\n",
              "      <td>35</td>\n",
              "      <td>single</td>\n",
              "      <td>m</td>\n",
              "      <td>straight</td>\n",
              "      <td>average</td>\n",
              "      <td>mostly other</td>\n",
              "      <td>often</td>\n",
              "      <td>sometimes</td>\n",
              "      <td>working on space camp</td>\n",
              "      <td>white</td>\n",
              "      <td>70.0</td>\n",
              "      <td>80000</td>\n",
              "      <td>hospitality / travel</td>\n",
              "      <td>2012-06-29-21-41</td>\n",
              "      <td>doesn't have kids, but might want them</td>\n",
              "      <td>likes dogs and likes cats</td>\n",
              "      <td>agnosticism but not too serious about it</td>\n",
              "      <td>cancer</td>\n",
              "      <td>no</td>\n",
              "    </tr>\n",
              "    <tr>\n",
              "      <th>2</th>\n",
              "      <td>38</td>\n",
              "      <td>available</td>\n",
              "      <td>m</td>\n",
              "      <td>straight</td>\n",
              "      <td>thin</td>\n",
              "      <td>anything</td>\n",
              "      <td>socially</td>\n",
              "      <td>NaN</td>\n",
              "      <td>graduated from masters program</td>\n",
              "      <td>NaN</td>\n",
              "      <td>68.0</td>\n",
              "      <td>-1</td>\n",
              "      <td>NaN</td>\n",
              "      <td>2012-06-27-09-10</td>\n",
              "      <td>NaN</td>\n",
              "      <td>has cats</td>\n",
              "      <td>NaN</td>\n",
              "      <td>pisces but it doesn&amp;rsquo;t matter</td>\n",
              "      <td>no</td>\n",
              "    </tr>\n",
              "    <tr>\n",
              "      <th>3</th>\n",
              "      <td>23</td>\n",
              "      <td>single</td>\n",
              "      <td>m</td>\n",
              "      <td>straight</td>\n",
              "      <td>thin</td>\n",
              "      <td>vegetarian</td>\n",
              "      <td>socially</td>\n",
              "      <td>NaN</td>\n",
              "      <td>working on college/university</td>\n",
              "      <td>white</td>\n",
              "      <td>71.0</td>\n",
              "      <td>20000</td>\n",
              "      <td>student</td>\n",
              "      <td>2012-06-28-14-22</td>\n",
              "      <td>doesn't want kids</td>\n",
              "      <td>likes cats</td>\n",
              "      <td>NaN</td>\n",
              "      <td>pisces</td>\n",
              "      <td>no</td>\n",
              "    </tr>\n",
              "    <tr>\n",
              "      <th>4</th>\n",
              "      <td>29</td>\n",
              "      <td>single</td>\n",
              "      <td>m</td>\n",
              "      <td>straight</td>\n",
              "      <td>athletic</td>\n",
              "      <td>NaN</td>\n",
              "      <td>socially</td>\n",
              "      <td>never</td>\n",
              "      <td>graduated from college/university</td>\n",
              "      <td>asian, black, other</td>\n",
              "      <td>66.0</td>\n",
              "      <td>-1</td>\n",
              "      <td>artistic / musical / writer</td>\n",
              "      <td>2012-06-27-21-26</td>\n",
              "      <td>NaN</td>\n",
              "      <td>likes dogs and likes cats</td>\n",
              "      <td>NaN</td>\n",
              "      <td>aquarius</td>\n",
              "      <td>no</td>\n",
              "    </tr>\n",
              "  </tbody>\n",
              "</table>\n",
              "</div>\n",
              "      <button class=\"colab-df-convert\" onclick=\"convertToInteractive('df-ecc0011f-7f11-4819-addf-e5394db27624')\"\n",
              "              title=\"Convert this dataframe to an interactive table.\"\n",
              "              style=\"display:none;\">\n",
              "        \n",
              "  <svg xmlns=\"http://www.w3.org/2000/svg\" height=\"24px\"viewBox=\"0 0 24 24\"\n",
              "       width=\"24px\">\n",
              "    <path d=\"M0 0h24v24H0V0z\" fill=\"none\"/>\n",
              "    <path d=\"M18.56 5.44l.94 2.06.94-2.06 2.06-.94-2.06-.94-.94-2.06-.94 2.06-2.06.94zm-11 1L8.5 8.5l.94-2.06 2.06-.94-2.06-.94L8.5 2.5l-.94 2.06-2.06.94zm10 10l.94 2.06.94-2.06 2.06-.94-2.06-.94-.94-2.06-.94 2.06-2.06.94z\"/><path d=\"M17.41 7.96l-1.37-1.37c-.4-.4-.92-.59-1.43-.59-.52 0-1.04.2-1.43.59L10.3 9.45l-7.72 7.72c-.78.78-.78 2.05 0 2.83L4 21.41c.39.39.9.59 1.41.59.51 0 1.02-.2 1.41-.59l7.78-7.78 2.81-2.81c.8-.78.8-2.07 0-2.86zM5.41 20L4 18.59l7.72-7.72 1.47 1.35L5.41 20z\"/>\n",
              "  </svg>\n",
              "      </button>\n",
              "      \n",
              "  <style>\n",
              "    .colab-df-container {\n",
              "      display:flex;\n",
              "      flex-wrap:wrap;\n",
              "      gap: 12px;\n",
              "    }\n",
              "\n",
              "    .colab-df-convert {\n",
              "      background-color: #E8F0FE;\n",
              "      border: none;\n",
              "      border-radius: 50%;\n",
              "      cursor: pointer;\n",
              "      display: none;\n",
              "      fill: #1967D2;\n",
              "      height: 32px;\n",
              "      padding: 0 0 0 0;\n",
              "      width: 32px;\n",
              "    }\n",
              "\n",
              "    .colab-df-convert:hover {\n",
              "      background-color: #E2EBFA;\n",
              "      box-shadow: 0px 1px 2px rgba(60, 64, 67, 0.3), 0px 1px 3px 1px rgba(60, 64, 67, 0.15);\n",
              "      fill: #174EA6;\n",
              "    }\n",
              "\n",
              "    [theme=dark] .colab-df-convert {\n",
              "      background-color: #3B4455;\n",
              "      fill: #D2E3FC;\n",
              "    }\n",
              "\n",
              "    [theme=dark] .colab-df-convert:hover {\n",
              "      background-color: #434B5C;\n",
              "      box-shadow: 0px 1px 3px 1px rgba(0, 0, 0, 0.15);\n",
              "      filter: drop-shadow(0px 1px 2px rgba(0, 0, 0, 0.3));\n",
              "      fill: #FFFFFF;\n",
              "    }\n",
              "  </style>\n",
              "\n",
              "      <script>\n",
              "        const buttonEl =\n",
              "          document.querySelector('#df-ecc0011f-7f11-4819-addf-e5394db27624 button.colab-df-convert');\n",
              "        buttonEl.style.display =\n",
              "          google.colab.kernel.accessAllowed ? 'block' : 'none';\n",
              "\n",
              "        async function convertToInteractive(key) {\n",
              "          const element = document.querySelector('#df-ecc0011f-7f11-4819-addf-e5394db27624');\n",
              "          const dataTable =\n",
              "            await google.colab.kernel.invokeFunction('convertToInteractive',\n",
              "                                                     [key], {});\n",
              "          if (!dataTable) return;\n",
              "\n",
              "          const docLinkHtml = 'Like what you see? Visit the ' +\n",
              "            '<a target=\"_blank\" href=https://colab.research.google.com/notebooks/data_table.ipynb>data table notebook</a>'\n",
              "            + ' to learn more about interactive tables.';\n",
              "          element.innerHTML = '';\n",
              "          dataTable['output_type'] = 'display_data';\n",
              "          await google.colab.output.renderOutput(dataTable, element);\n",
              "          const docLink = document.createElement('div');\n",
              "          docLink.innerHTML = docLinkHtml;\n",
              "          element.appendChild(docLink);\n",
              "        }\n",
              "      </script>\n",
              "    </div>\n",
              "  </div>\n",
              "  "
            ],
            "text/plain": [
              "   age     status sex orientation       body_type               diet  \\\n",
              "0   22     single   m    straight  a little extra  strictly anything   \n",
              "1   35     single   m    straight         average       mostly other   \n",
              "2   38  available   m    straight            thin           anything   \n",
              "3   23     single   m    straight            thin         vegetarian   \n",
              "4   29     single   m    straight        athletic                NaN   \n",
              "\n",
              "     drinks      drugs                          education  \\\n",
              "0  socially      never      working on college/university   \n",
              "1     often  sometimes              working on space camp   \n",
              "2  socially        NaN     graduated from masters program   \n",
              "3  socially        NaN      working on college/university   \n",
              "4  socially      never  graduated from college/university   \n",
              "\n",
              "             ethnicity  height  income                          job  \\\n",
              "0         asian, white    75.0      -1               transportation   \n",
              "1                white    70.0   80000         hospitality / travel   \n",
              "2                  NaN    68.0      -1                          NaN   \n",
              "3                white    71.0   20000                      student   \n",
              "4  asian, black, other    66.0      -1  artistic / musical / writer   \n",
              "\n",
              "        last_online                               offspring  \\\n",
              "0  2012-06-28-20-30  doesn't have kids, but might want them   \n",
              "1  2012-06-29-21-41  doesn't have kids, but might want them   \n",
              "2  2012-06-27-09-10                                     NaN   \n",
              "3  2012-06-28-14-22                       doesn't want kids   \n",
              "4  2012-06-27-21-26                                     NaN   \n",
              "\n",
              "                        pets                                  religion  \\\n",
              "0  likes dogs and likes cats     agnosticism and very serious about it   \n",
              "1  likes dogs and likes cats  agnosticism but not too serious about it   \n",
              "2                   has cats                                       NaN   \n",
              "3                 likes cats                                       NaN   \n",
              "4  likes dogs and likes cats                                       NaN   \n",
              "\n",
              "                                 sign     smokes  \n",
              "0                              gemini  sometimes  \n",
              "1                              cancer         no  \n",
              "2  pisces but it doesn&rsquo;t matter         no  \n",
              "3                              pisces         no  \n",
              "4                            aquarius         no  "
            ]
          },
          "execution_count": 292,
          "metadata": {},
          "output_type": "execute_result"
        }
      ],
      "source": [
        "df.head()"
      ]
    },
    {
      "cell_type": "code",
      "execution_count": 293,
      "metadata": {
        "id": "qfgzQKRD11fj"
      },
      "outputs": [],
      "source": [
        "# zmienic -1 w income na nan"
      ]
    },
    {
      "cell_type": "code",
      "execution_count": 294,
      "metadata": {
        "colab": {
          "base_uri": "https://localhost:8080/"
        },
        "id": "yoEa8ShPgR8D",
        "outputId": "4d75c1eb-4321-4b60-e6e5-7a49b94a3154"
      },
      "outputs": [
        {
          "data": {
            "text/plain": [
              "age              int64\n",
              "status          object\n",
              "sex             object\n",
              "orientation     object\n",
              "body_type       object\n",
              "diet            object\n",
              "drinks          object\n",
              "drugs           object\n",
              "education       object\n",
              "ethnicity       object\n",
              "height         float64\n",
              "income           int64\n",
              "job             object\n",
              "last_online     object\n",
              "offspring       object\n",
              "pets            object\n",
              "religion        object\n",
              "sign            object\n",
              "smokes          object\n",
              "dtype: object"
            ]
          },
          "execution_count": 294,
          "metadata": {},
          "output_type": "execute_result"
        }
      ],
      "source": [
        "df.dtypes"
      ]
    },
    {
      "cell_type": "code",
      "execution_count": 295,
      "metadata": {
        "id": "hLlbQvtumLs-"
      },
      "outputs": [],
      "source": [
        "categories_no_order = ['status', 'sex', 'orientation', 'body_type', 'diet', \n",
        "                       'education', 'ethnicity', 'job', 'location',\n",
        "                       'offspring', 'pets', 'religion', 'sign', 'speaks']\n",
        "categories_with_order = ['drinks', 'drugs', 'smokes']"
      ]
    },
    {
      "cell_type": "code",
      "execution_count": 296,
      "metadata": {
        "id": "AvwL1sE6x5cp"
      },
      "outputs": [],
      "source": [
        "offspring_mapping = {\"doesn't have kids\": 0,\n",
        "                     \"doesn't have kids, and doesn't want any\": 0,\n",
        "                     \"doesn't have kids, but might want them\": 0,\n",
        "                     \"doesn't have kids, but wants them\": 0,\n",
        "                     \"doesn't want kids\": 0,\n",
        "                     \"has a kid\": 1,\n",
        "                     \"has a kid, and might want more\": 1,\n",
        "                     \"has a kid, and wants more\": 1,\n",
        "                     \"has a kid, and doesn't want more\": 1,\n",
        "                     \"has kids\": 1,\n",
        "                     \"has kids, and might want more\": 1,\n",
        "                     \"has kids, and wants more\": 1,\n",
        "                     \"has kids, but doesn't want more\": 1,\n",
        "                     \"might want kids\": 0,\n",
        "                     \"wants kids\": 0}"
      ]
    },
    {
      "cell_type": "code",
      "execution_count": 297,
      "metadata": {
        "id": "42mssbJfpEjQ"
      },
      "outputs": [],
      "source": [
        "education_mapping = {'college/university': 3,\n",
        "                     'dropped out of college/university': 2,\n",
        "                     'dropped out of high school': 1,\n",
        "                     'dropped out of law school': 1,\n",
        "                     'dropped out of masters program': 2,\n",
        "                     'dropped out of med school': 2,\n",
        "                     'dropped out of ph.d program': 3,\n",
        "                     'dropped out of space camp': 2,\n",
        "                     'dropped out of two-year college': 2,\n",
        "                     'graduated from college/university': 3,\n",
        "                     'graduated from high school': 2,\n",
        "                     'graduated from law school': 2,\n",
        "                     'graduated from masters program': 3,\n",
        "                     'graduated from med school': 3,\n",
        "                     'graduated from ph.d program': 3,\n",
        "                     'graduated from space camp': 3,\n",
        "                     'graduated from two-year college': 3,\n",
        "                     'high school': 2,\n",
        "                     'law school': 3,\n",
        "                     'masters program': 3,\n",
        "                     'med school': 3,\n",
        "                     'ph.d program': 3,\n",
        "                     'space camp': 3,\n",
        "                     'two-year college':3,\n",
        "                     'working on college/university': 2,\n",
        "                     'working on high school': 1,\n",
        "                     'working on law school': 2,\n",
        "                     'working on masters program': 2,\n",
        "                     'working on med school': 2,\n",
        "                     'working on ph.d program': 3,\n",
        "                     'working on space camp': 2,\n",
        "                     'working on two-year college': 2\n",
        "                     }"
      ]
    },
    {
      "cell_type": "code",
      "execution_count": 299,
      "metadata": {
        "id": "q5LcrpzzrSKS"
      },
      "outputs": [],
      "source": [
        "def create_values_set(ser):\n",
        "  value_set = set()\n",
        "  for val in list(ser):\n",
        "    if type(val) == list:\n",
        "      for subval in val:\n",
        "        value_set.add(subval.strip())\n",
        "  return value_set"
      ]
    },
    {
      "cell_type": "code",
      "execution_count": 298,
      "metadata": {
        "id": "XJgf9RAJtOck"
      },
      "outputs": [],
      "source": [
        "df['ethnicity'] = df['ethnicity'].apply(lambda x: x.split(',') if type(x)==str else x)"
      ]
    },
    {
      "cell_type": "code",
      "execution_count": 300,
      "metadata": {
        "id": "Gdy7ytDUrtS3"
      },
      "outputs": [],
      "source": [
        "ethnicity_set = create_values_set(df['ethnicity'])"
      ]
    },
    {
      "cell_type": "code",
      "execution_count": 267,
      "metadata": {
        "id": "-pBQaVlyzFY3"
      },
      "outputs": [],
      "source": [
        "df['religion'] = df['religion'].apply(lambda x: x.replace(\"and\", \"but\") if type(x)==str else None)"
      ]
    },
    {
      "cell_type": "code",
      "execution_count": 268,
      "metadata": {
        "id": "PcnDXG2VzcMx"
      },
      "outputs": [],
      "source": [
        "df['religion'] = df['religion'].apply(lambda x: x.split(' but ') if type(x)==str else x)"
      ]
    },
    {
      "cell_type": "code",
      "execution_count": 269,
      "metadata": {
        "id": "JNHsc5no0Um8"
      },
      "outputs": [],
      "source": [
        "religion_set = create_values_set(df['religion'])"
      ]
    },
    {
      "cell_type": "code",
      "execution_count": 270,
      "metadata": {
        "id": "InPZIBU_zwL7"
      },
      "outputs": [],
      "source": [
        "df['sign'] = df['sign'].apply(lambda x: x.replace(\"and\", \"but\") if type(x)==str else None)"
      ]
    },
    {
      "cell_type": "code",
      "execution_count": 271,
      "metadata": {
        "id": "O06yF1HFwZsy"
      },
      "outputs": [],
      "source": [
        "df['pets'] = df['pets'].apply(lambda x: x.split(' and ') if type(x)==str else x)"
      ]
    },
    {
      "cell_type": "code",
      "execution_count": 301,
      "metadata": {
        "id": "8EcYgkii0euP"
      },
      "outputs": [],
      "source": [
        "pets_set = create_values_set(df['pets'])"
      ]
    },
    {
      "cell_type": "code",
      "execution_count": 273,
      "metadata": {
        "id": "gS2vg4cpzy6G"
      },
      "outputs": [],
      "source": [
        "df['sign'] = df['sign'].apply(lambda x: x.split(' but ') if type(x)==str else x)"
      ]
    },
    {
      "cell_type": "code",
      "execution_count": 302,
      "metadata": {
        "id": "PGuFXKWZ0qLs"
      },
      "outputs": [],
      "source": [
        "signs_set = create_values_set(df['sign'])"
      ]
    },
    {
      "cell_type": "code",
      "execution_count": 303,
      "metadata": {
        "id": "7qcKEgVIq7zO"
      },
      "outputs": [],
      "source": [
        "df.replace({'education': education_mapping}, inplace=True)"
      ]
    },
    {
      "cell_type": "code",
      "execution_count": 304,
      "metadata": {
        "id": "kyXv0N2vybos"
      },
      "outputs": [],
      "source": [
        "df.replace({'offspring': offspring_mapping}, inplace=True)"
      ]
    },
    {
      "cell_type": "code",
      "execution_count": 305,
      "metadata": {
        "id": "j1epmTQqoD6D"
      },
      "outputs": [],
      "source": [
        "df['body_type'] = df['body_type'].apply(lambda x: None if x=='rather not say' else x)"
      ]
    },
    {
      "cell_type": "code",
      "execution_count": 306,
      "metadata": {
        "id": "aOtTL4i-hOI9"
      },
      "outputs": [],
      "source": [
        "def one_hot_from_list(df, column, val_set):\n",
        "  for val in list(val_set):\n",
        "    val_column_name = f\"{column}_{val}\"\n",
        "    df[val_column_name] = df[column].apply(lambda x: True if isinstance(x,list) and val in x else (False if isinstance(x,list) else None))\n",
        "  df = df.drop(columns=column)\n",
        "  return df"
      ]
    },
    {
      "cell_type": "code",
      "execution_count": 307,
      "metadata": {
        "id": "aVUW3yyBorqw"
      },
      "outputs": [],
      "source": [
        "df = one_hot_from_list(df, 'sign', signs_set)"
      ]
    },
    {
      "cell_type": "code",
      "execution_count": 308,
      "metadata": {
        "id": "xFtvcG92o2Kk"
      },
      "outputs": [],
      "source": [
        "df = one_hot_from_list(df, 'religion', religion_set)"
      ]
    },
    {
      "cell_type": "code",
      "execution_count": 309,
      "metadata": {
        "id": "asv9YNlnpU01"
      },
      "outputs": [],
      "source": [
        "df = one_hot_from_list(df, 'pets', pets_set)"
      ]
    },
    {
      "cell_type": "code",
      "execution_count": 310,
      "metadata": {
        "id": "4N7wAhkkpeR5"
      },
      "outputs": [],
      "source": [
        "df = one_hot_from_list(df, 'ethnicity', ethnicity_set)"
      ]
    },
    {
      "cell_type": "code",
      "execution_count": 311,
      "metadata": {
        "id": "3B7--Uy7lmJ8"
      },
      "outputs": [],
      "source": [
        "df = pd.get_dummies(df,prefix=['status'], columns = ['status'], drop_first=True)"
      ]
    },
    {
      "cell_type": "code",
      "execution_count": 312,
      "metadata": {
        "colab": {
          "base_uri": "https://localhost:8080/"
        },
        "id": "RuPLHr-7jfa0",
        "outputId": "373f0661-8e17-43af-d0e4-d3de96d0cf22"
      },
      "outputs": [
        {
          "data": {
            "text/plain": [
              "Index(['age', 'sex', 'orientation', 'body_type', 'diet', 'drinks', 'drugs',\n",
              "       'education', 'height', 'income', 'job', 'last_online', 'offspring',\n",
              "       'smokes', 'religion_agnosticism', 'religion_hinduism',\n",
              "       'religion_atheism', 'religion_not too serious about it',\n",
              "       'religion_christianity', 'religion_other', 'religion_laughing about it',\n",
              "       'religion_somewhat serious about it', 'religion_islam',\n",
              "       'religion_very serious about it', 'religion_judaism',\n",
              "       'religion_buddhism', 'religion_catholicism', 'ethnicity_indian',\n",
              "       'ethnicity_middle eastern', 'ethnicity_pacific islander',\n",
              "       'ethnicity_other', 'ethnicity_black', 'ethnicity_hispanic / latin',\n",
              "       'ethnicity_native american', 'ethnicity_white', 'ethnicity_asian',\n",
              "       'status_married', 'status_seeing someone', 'status_single',\n",
              "       'status_unknown'],\n",
              "      dtype='object')"
            ]
          },
          "execution_count": 312,
          "metadata": {},
          "output_type": "execute_result"
        }
      ],
      "source": [
        "df.columns"
      ]
    },
    {
      "cell_type": "code",
      "execution_count": 313,
      "metadata": {
        "colab": {
          "base_uri": "https://localhost:8080/",
          "height": 352
        },
        "id": "bJK3mZwFlsW6",
        "outputId": "c38fe027-10b7-4409-e241-06dd33c79d47"
      },
      "outputs": [
        {
          "data": {
            "text/html": [
              "\n",
              "  <div id=\"df-78ddb29d-c461-4a03-8175-67bb5c4a433a\">\n",
              "    <div class=\"colab-df-container\">\n",
              "      <div>\n",
              "<style scoped>\n",
              "    .dataframe tbody tr th:only-of-type {\n",
              "        vertical-align: middle;\n",
              "    }\n",
              "\n",
              "    .dataframe tbody tr th {\n",
              "        vertical-align: top;\n",
              "    }\n",
              "\n",
              "    .dataframe thead th {\n",
              "        text-align: right;\n",
              "    }\n",
              "</style>\n",
              "<table border=\"1\" class=\"dataframe\">\n",
              "  <thead>\n",
              "    <tr style=\"text-align: right;\">\n",
              "      <th></th>\n",
              "      <th>age</th>\n",
              "      <th>sex</th>\n",
              "      <th>orientation</th>\n",
              "      <th>body_type</th>\n",
              "      <th>diet</th>\n",
              "      <th>drinks</th>\n",
              "      <th>drugs</th>\n",
              "      <th>education</th>\n",
              "      <th>height</th>\n",
              "      <th>income</th>\n",
              "      <th>...</th>\n",
              "      <th>ethnicity_other</th>\n",
              "      <th>ethnicity_black</th>\n",
              "      <th>ethnicity_hispanic / latin</th>\n",
              "      <th>ethnicity_native american</th>\n",
              "      <th>ethnicity_white</th>\n",
              "      <th>ethnicity_asian</th>\n",
              "      <th>status_married</th>\n",
              "      <th>status_seeing someone</th>\n",
              "      <th>status_single</th>\n",
              "      <th>status_unknown</th>\n",
              "    </tr>\n",
              "  </thead>\n",
              "  <tbody>\n",
              "    <tr>\n",
              "      <th>0</th>\n",
              "      <td>22</td>\n",
              "      <td>m</td>\n",
              "      <td>straight</td>\n",
              "      <td>a little extra</td>\n",
              "      <td>strictly anything</td>\n",
              "      <td>socially</td>\n",
              "      <td>never</td>\n",
              "      <td>2.0</td>\n",
              "      <td>75.0</td>\n",
              "      <td>-1</td>\n",
              "      <td>...</td>\n",
              "      <td>False</td>\n",
              "      <td>False</td>\n",
              "      <td>False</td>\n",
              "      <td>False</td>\n",
              "      <td>False</td>\n",
              "      <td>True</td>\n",
              "      <td>0</td>\n",
              "      <td>0</td>\n",
              "      <td>1</td>\n",
              "      <td>0</td>\n",
              "    </tr>\n",
              "    <tr>\n",
              "      <th>1</th>\n",
              "      <td>35</td>\n",
              "      <td>m</td>\n",
              "      <td>straight</td>\n",
              "      <td>average</td>\n",
              "      <td>mostly other</td>\n",
              "      <td>often</td>\n",
              "      <td>sometimes</td>\n",
              "      <td>2.0</td>\n",
              "      <td>70.0</td>\n",
              "      <td>80000</td>\n",
              "      <td>...</td>\n",
              "      <td>False</td>\n",
              "      <td>False</td>\n",
              "      <td>False</td>\n",
              "      <td>False</td>\n",
              "      <td>True</td>\n",
              "      <td>False</td>\n",
              "      <td>0</td>\n",
              "      <td>0</td>\n",
              "      <td>1</td>\n",
              "      <td>0</td>\n",
              "    </tr>\n",
              "    <tr>\n",
              "      <th>2</th>\n",
              "      <td>38</td>\n",
              "      <td>m</td>\n",
              "      <td>straight</td>\n",
              "      <td>thin</td>\n",
              "      <td>anything</td>\n",
              "      <td>socially</td>\n",
              "      <td>NaN</td>\n",
              "      <td>3.0</td>\n",
              "      <td>68.0</td>\n",
              "      <td>-1</td>\n",
              "      <td>...</td>\n",
              "      <td>None</td>\n",
              "      <td>None</td>\n",
              "      <td>None</td>\n",
              "      <td>None</td>\n",
              "      <td>None</td>\n",
              "      <td>None</td>\n",
              "      <td>0</td>\n",
              "      <td>0</td>\n",
              "      <td>0</td>\n",
              "      <td>0</td>\n",
              "    </tr>\n",
              "    <tr>\n",
              "      <th>3</th>\n",
              "      <td>23</td>\n",
              "      <td>m</td>\n",
              "      <td>straight</td>\n",
              "      <td>thin</td>\n",
              "      <td>vegetarian</td>\n",
              "      <td>socially</td>\n",
              "      <td>NaN</td>\n",
              "      <td>2.0</td>\n",
              "      <td>71.0</td>\n",
              "      <td>20000</td>\n",
              "      <td>...</td>\n",
              "      <td>False</td>\n",
              "      <td>False</td>\n",
              "      <td>False</td>\n",
              "      <td>False</td>\n",
              "      <td>True</td>\n",
              "      <td>False</td>\n",
              "      <td>0</td>\n",
              "      <td>0</td>\n",
              "      <td>1</td>\n",
              "      <td>0</td>\n",
              "    </tr>\n",
              "    <tr>\n",
              "      <th>4</th>\n",
              "      <td>29</td>\n",
              "      <td>m</td>\n",
              "      <td>straight</td>\n",
              "      <td>athletic</td>\n",
              "      <td>NaN</td>\n",
              "      <td>socially</td>\n",
              "      <td>never</td>\n",
              "      <td>3.0</td>\n",
              "      <td>66.0</td>\n",
              "      <td>-1</td>\n",
              "      <td>...</td>\n",
              "      <td>False</td>\n",
              "      <td>False</td>\n",
              "      <td>False</td>\n",
              "      <td>False</td>\n",
              "      <td>False</td>\n",
              "      <td>True</td>\n",
              "      <td>0</td>\n",
              "      <td>0</td>\n",
              "      <td>1</td>\n",
              "      <td>0</td>\n",
              "    </tr>\n",
              "  </tbody>\n",
              "</table>\n",
              "<p>5 rows × 40 columns</p>\n",
              "</div>\n",
              "      <button class=\"colab-df-convert\" onclick=\"convertToInteractive('df-78ddb29d-c461-4a03-8175-67bb5c4a433a')\"\n",
              "              title=\"Convert this dataframe to an interactive table.\"\n",
              "              style=\"display:none;\">\n",
              "        \n",
              "  <svg xmlns=\"http://www.w3.org/2000/svg\" height=\"24px\"viewBox=\"0 0 24 24\"\n",
              "       width=\"24px\">\n",
              "    <path d=\"M0 0h24v24H0V0z\" fill=\"none\"/>\n",
              "    <path d=\"M18.56 5.44l.94 2.06.94-2.06 2.06-.94-2.06-.94-.94-2.06-.94 2.06-2.06.94zm-11 1L8.5 8.5l.94-2.06 2.06-.94-2.06-.94L8.5 2.5l-.94 2.06-2.06.94zm10 10l.94 2.06.94-2.06 2.06-.94-2.06-.94-.94-2.06-.94 2.06-2.06.94z\"/><path d=\"M17.41 7.96l-1.37-1.37c-.4-.4-.92-.59-1.43-.59-.52 0-1.04.2-1.43.59L10.3 9.45l-7.72 7.72c-.78.78-.78 2.05 0 2.83L4 21.41c.39.39.9.59 1.41.59.51 0 1.02-.2 1.41-.59l7.78-7.78 2.81-2.81c.8-.78.8-2.07 0-2.86zM5.41 20L4 18.59l7.72-7.72 1.47 1.35L5.41 20z\"/>\n",
              "  </svg>\n",
              "      </button>\n",
              "      \n",
              "  <style>\n",
              "    .colab-df-container {\n",
              "      display:flex;\n",
              "      flex-wrap:wrap;\n",
              "      gap: 12px;\n",
              "    }\n",
              "\n",
              "    .colab-df-convert {\n",
              "      background-color: #E8F0FE;\n",
              "      border: none;\n",
              "      border-radius: 50%;\n",
              "      cursor: pointer;\n",
              "      display: none;\n",
              "      fill: #1967D2;\n",
              "      height: 32px;\n",
              "      padding: 0 0 0 0;\n",
              "      width: 32px;\n",
              "    }\n",
              "\n",
              "    .colab-df-convert:hover {\n",
              "      background-color: #E2EBFA;\n",
              "      box-shadow: 0px 1px 2px rgba(60, 64, 67, 0.3), 0px 1px 3px 1px rgba(60, 64, 67, 0.15);\n",
              "      fill: #174EA6;\n",
              "    }\n",
              "\n",
              "    [theme=dark] .colab-df-convert {\n",
              "      background-color: #3B4455;\n",
              "      fill: #D2E3FC;\n",
              "    }\n",
              "\n",
              "    [theme=dark] .colab-df-convert:hover {\n",
              "      background-color: #434B5C;\n",
              "      box-shadow: 0px 1px 3px 1px rgba(0, 0, 0, 0.15);\n",
              "      filter: drop-shadow(0px 1px 2px rgba(0, 0, 0, 0.3));\n",
              "      fill: #FFFFFF;\n",
              "    }\n",
              "  </style>\n",
              "\n",
              "      <script>\n",
              "        const buttonEl =\n",
              "          document.querySelector('#df-78ddb29d-c461-4a03-8175-67bb5c4a433a button.colab-df-convert');\n",
              "        buttonEl.style.display =\n",
              "          google.colab.kernel.accessAllowed ? 'block' : 'none';\n",
              "\n",
              "        async function convertToInteractive(key) {\n",
              "          const element = document.querySelector('#df-78ddb29d-c461-4a03-8175-67bb5c4a433a');\n",
              "          const dataTable =\n",
              "            await google.colab.kernel.invokeFunction('convertToInteractive',\n",
              "                                                     [key], {});\n",
              "          if (!dataTable) return;\n",
              "\n",
              "          const docLinkHtml = 'Like what you see? Visit the ' +\n",
              "            '<a target=\"_blank\" href=https://colab.research.google.com/notebooks/data_table.ipynb>data table notebook</a>'\n",
              "            + ' to learn more about interactive tables.';\n",
              "          element.innerHTML = '';\n",
              "          dataTable['output_type'] = 'display_data';\n",
              "          await google.colab.output.renderOutput(dataTable, element);\n",
              "          const docLink = document.createElement('div');\n",
              "          docLink.innerHTML = docLinkHtml;\n",
              "          element.appendChild(docLink);\n",
              "        }\n",
              "      </script>\n",
              "    </div>\n",
              "  </div>\n",
              "  "
            ],
            "text/plain": [
              "   age sex orientation       body_type               diet    drinks  \\\n",
              "0   22   m    straight  a little extra  strictly anything  socially   \n",
              "1   35   m    straight         average       mostly other     often   \n",
              "2   38   m    straight            thin           anything  socially   \n",
              "3   23   m    straight            thin         vegetarian  socially   \n",
              "4   29   m    straight        athletic                NaN  socially   \n",
              "\n",
              "       drugs  education  height  income  ... ethnicity_other ethnicity_black  \\\n",
              "0      never        2.0    75.0      -1  ...           False           False   \n",
              "1  sometimes        2.0    70.0   80000  ...           False           False   \n",
              "2        NaN        3.0    68.0      -1  ...            None            None   \n",
              "3        NaN        2.0    71.0   20000  ...           False           False   \n",
              "4      never        3.0    66.0      -1  ...           False           False   \n",
              "\n",
              "  ethnicity_hispanic / latin ethnicity_native american ethnicity_white  \\\n",
              "0                      False                     False           False   \n",
              "1                      False                     False            True   \n",
              "2                       None                      None            None   \n",
              "3                      False                     False            True   \n",
              "4                      False                     False           False   \n",
              "\n",
              "  ethnicity_asian status_married status_seeing someone status_single  \\\n",
              "0            True              0                     0             1   \n",
              "1           False              0                     0             1   \n",
              "2            None              0                     0             0   \n",
              "3           False              0                     0             1   \n",
              "4            True              0                     0             1   \n",
              "\n",
              "  status_unknown  \n",
              "0              0  \n",
              "1              0  \n",
              "2              0  \n",
              "3              0  \n",
              "4              0  \n",
              "\n",
              "[5 rows x 40 columns]"
            ]
          },
          "execution_count": 313,
          "metadata": {},
          "output_type": "execute_result"
        }
      ],
      "source": [
        "df.head()"
      ]
    },
    {
      "cell_type": "code",
      "execution_count": 287,
      "metadata": {
        "colab": {
          "base_uri": "https://localhost:8080/"
        },
        "id": "w-RXnML-qpwB",
        "outputId": "498c99f8-7f75-4805-928d-d99e9afa7472"
      },
      "outputs": [
        {
          "data": {
            "text/plain": [
              "age                                   0.000000\n",
              "status                                0.000000\n",
              "sex                                   0.000000\n",
              "orientation                           0.000000\n",
              "body_type                             0.091649\n",
              "diet                                  0.406950\n",
              "drinks                                0.049795\n",
              "drugs                                 0.234878\n",
              "education                             0.110566\n",
              "height                                0.000050\n",
              "income                                0.000000\n",
              "job                                   0.136756\n",
              "last_online                           0.000000\n",
              "offspring                             0.593217\n",
              "smokes                                0.091949\n",
              "sign_cancer                           0.184433\n",
              "sign_sagittarius                      0.184433\n",
              "sign_virgo                            0.184433\n",
              "sign_it doesn&rsquo;t matter          0.184433\n",
              "sign_scorpio                          0.184433\n",
              "sign_aries                            0.184433\n",
              "sign_gemini                           0.184433\n",
              "sign_aquarius                         0.184433\n",
              "sign_taurus                           0.184433\n",
              "sign_libra                            0.184433\n",
              "sign_it matters a lot                 0.184433\n",
              "sign_capricorn                        0.184433\n",
              "sign_pisces                           0.184433\n",
              "sign_it&rsquo;s fun to think about    0.184433\n",
              "sign_leo                              0.184433\n",
              "religion_agnosticism                  0.337404\n",
              "religion_hinduism                     0.337404\n",
              "religion_atheism                      0.337404\n",
              "religion_not too serious about it     0.337404\n",
              "religion_christianity                 0.337404\n",
              "religion_other                        0.337404\n",
              "religion_laughing about it            0.337404\n",
              "religion_somewhat serious about it    0.337404\n",
              "religion_islam                        0.337404\n",
              "religion_very serious about it        0.337404\n",
              "religion_judaism                      0.337404\n",
              "religion_buddhism                     0.337404\n",
              "religion_catholicism                  0.337404\n",
              "pets_has dogs                         0.332316\n",
              "pets_likes dogs                       0.332316\n",
              "pets_has cats                         0.332316\n",
              "pets_likes cats                       0.332316\n",
              "pets_dislikes cats                    0.332316\n",
              "pets_dislikes dogs                    0.332316\n",
              "ethnicity_indian                      0.094752\n",
              "ethnicity_middle eastern              0.094752\n",
              "ethnicity_pacific islander            0.094752\n",
              "ethnicity_other                       0.094752\n",
              "ethnicity_black                       0.094752\n",
              "ethnicity_hispanic / latin            0.094752\n",
              "ethnicity_native american             0.094752\n",
              "ethnicity_white                       0.094752\n",
              "ethnicity_asian                       0.094752\n",
              "dtype: float64"
            ]
          },
          "execution_count": 287,
          "metadata": {},
          "output_type": "execute_result"
        }
      ],
      "source": [
        "df.isna().sum() / len(df)"
      ]
    },
    {
      "cell_type": "code",
      "execution_count": null,
      "metadata": {
        "colab": {
          "base_uri": "https://localhost:8080/",
          "height": 296
        },
        "id": "G4vvebJ5CwlO",
        "outputId": "edfbe130-5f9f-4cff-a2e1-c765365bf054"
      },
      "outputs": [
        {
          "data": {
            "text/plain": [
              "<matplotlib.axes._subplots.AxesSubplot at 0x7f3f6ad77970>"
            ]
          },
          "execution_count": 83,
          "metadata": {},
          "output_type": "execute_result"
        },
        {
          "data": {
            "image/png": "[encoded data removed]",
            "text/plain": [
              "<Figure size 432x288 with 1 Axes>"
            ]
          },
          "metadata": {
            "needs_background": "light"
          },
          "output_type": "display_data"
        }
      ],
      "source": [
        "sns.histplot(x=df['age'])"
      ]
    },
    {
      "cell_type": "code",
      "execution_count": null,
      "metadata": {
        "colab": {
          "base_uri": "https://localhost:8080/",
          "height": 300
        },
        "id": "BOtAuonwDmYo",
        "outputId": "4f415d6f-6536-4a7a-9108-5439af83f1b8"
      },
      "outputs": [
        {
          "data": {
            "text/html": [
              "\n",
              "  <div id=\"df-aa42f260-8a7b-4c24-8469-7a424dbed656\">\n",
              "    <div class=\"colab-df-container\">\n",
              "      <div>\n",
              "<style scoped>\n",
              "    .dataframe tbody tr th:only-of-type {\n",
              "        vertical-align: middle;\n",
              "    }\n",
              "\n",
              "    .dataframe tbody tr th {\n",
              "        vertical-align: top;\n",
              "    }\n",
              "\n",
              "    .dataframe thead th {\n",
              "        text-align: right;\n",
              "    }\n",
              "</style>\n",
              "<table border=\"1\" class=\"dataframe\">\n",
              "  <thead>\n",
              "    <tr style=\"text-align: right;\">\n",
              "      <th></th>\n",
              "      <th>age</th>\n",
              "    </tr>\n",
              "  </thead>\n",
              "  <tbody>\n",
              "    <tr>\n",
              "      <th>count</th>\n",
              "      <td>59946.000000</td>\n",
              "    </tr>\n",
              "    <tr>\n",
              "      <th>mean</th>\n",
              "      <td>32.340290</td>\n",
              "    </tr>\n",
              "    <tr>\n",
              "      <th>std</th>\n",
              "      <td>9.452779</td>\n",
              "    </tr>\n",
              "    <tr>\n",
              "      <th>min</th>\n",
              "      <td>18.000000</td>\n",
              "    </tr>\n",
              "    <tr>\n",
              "      <th>25%</th>\n",
              "      <td>26.000000</td>\n",
              "    </tr>\n",
              "    <tr>\n",
              "      <th>50%</th>\n",
              "      <td>30.000000</td>\n",
              "    </tr>\n",
              "    <tr>\n",
              "      <th>75%</th>\n",
              "      <td>37.000000</td>\n",
              "    </tr>\n",
              "    <tr>\n",
              "      <th>max</th>\n",
              "      <td>110.000000</td>\n",
              "    </tr>\n",
              "  </tbody>\n",
              "</table>\n",
              "</div>\n",
              "      <button class=\"colab-df-convert\" onclick=\"convertToInteractive('df-aa42f260-8a7b-4c24-8469-7a424dbed656')\"\n",
              "              title=\"Convert this dataframe to an interactive table.\"\n",
              "              style=\"display:none;\">\n",
              "        \n",
              "  <svg xmlns=\"http://www.w3.org/2000/svg\" height=\"24px\"viewBox=\"0 0 24 24\"\n",
              "       width=\"24px\">\n",
              "    <path d=\"M0 0h24v24H0V0z\" fill=\"none\"/>\n",
              "    <path d=\"M18.56 5.44l.94 2.06.94-2.06 2.06-.94-2.06-.94-.94-2.06-.94 2.06-2.06.94zm-11 1L8.5 8.5l.94-2.06 2.06-.94-2.06-.94L8.5 2.5l-.94 2.06-2.06.94zm10 10l.94 2.06.94-2.06 2.06-.94-2.06-.94-.94-2.06-.94 2.06-2.06.94z\"/><path d=\"M17.41 7.96l-1.37-1.37c-.4-.4-.92-.59-1.43-.59-.52 0-1.04.2-1.43.59L10.3 9.45l-7.72 7.72c-.78.78-.78 2.05 0 2.83L4 21.41c.39.39.9.59 1.41.59.51 0 1.02-.2 1.41-.59l7.78-7.78 2.81-2.81c.8-.78.8-2.07 0-2.86zM5.41 20L4 18.59l7.72-7.72 1.47 1.35L5.41 20z\"/>\n",
              "  </svg>\n",
              "      </button>\n",
              "      \n",
              "  <style>\n",
              "    .colab-df-container {\n",
              "      display:flex;\n",
              "      flex-wrap:wrap;\n",
              "      gap: 12px;\n",
              "    }\n",
              "\n",
              "    .colab-df-convert {\n",
              "      background-color: #E8F0FE;\n",
              "      border: none;\n",
              "      border-radius: 50%;\n",
              "      cursor: pointer;\n",
              "      display: none;\n",
              "      fill: #1967D2;\n",
              "      height: 32px;\n",
              "      padding: 0 0 0 0;\n",
              "      width: 32px;\n",
              "    }\n",
              "\n",
              "    .colab-df-convert:hover {\n",
              "      background-color: #E2EBFA;\n",
              "      box-shadow: 0px 1px 2px rgba(60, 64, 67, 0.3), 0px 1px 3px 1px rgba(60, 64, 67, 0.15);\n",
              "      fill: #174EA6;\n",
              "    }\n",
              "\n",
              "    [theme=dark] .colab-df-convert {\n",
              "      background-color: #3B4455;\n",
              "      fill: #D2E3FC;\n",
              "    }\n",
              "\n",
              "    [theme=dark] .colab-df-convert:hover {\n",
              "      background-color: #434B5C;\n",
              "      box-shadow: 0px 1px 3px 1px rgba(0, 0, 0, 0.15);\n",
              "      filter: drop-shadow(0px 1px 2px rgba(0, 0, 0, 0.3));\n",
              "      fill: #FFFFFF;\n",
              "    }\n",
              "  </style>\n",
              "\n",
              "      <script>\n",
              "        const buttonEl =\n",
              "          document.querySelector('#df-aa42f260-8a7b-4c24-8469-7a424dbed656 button.colab-df-convert');\n",
              "        buttonEl.style.display =\n",
              "          google.colab.kernel.accessAllowed ? 'block' : 'none';\n",
              "\n",
              "        async function convertToInteractive(key) {\n",
              "          const element = document.querySelector('#df-aa42f260-8a7b-4c24-8469-7a424dbed656');\n",
              "          const dataTable =\n",
              "            await google.colab.kernel.invokeFunction('convertToInteractive',\n",
              "                                                     [key], {});\n",
              "          if (!dataTable) return;\n",
              "\n",
              "          const docLinkHtml = 'Like what you see? Visit the ' +\n",
              "            '<a target=\"_blank\" href=https://colab.research.google.com/notebooks/data_table.ipynb>data table notebook</a>'\n",
              "            + ' to learn more about interactive tables.';\n",
              "          element.innerHTML = '';\n",
              "          dataTable['output_type'] = 'display_data';\n",
              "          await google.colab.output.renderOutput(dataTable, element);\n",
              "          const docLink = document.createElement('div');\n",
              "          docLink.innerHTML = docLinkHtml;\n",
              "          element.appendChild(docLink);\n",
              "        }\n",
              "      </script>\n",
              "    </div>\n",
              "  </div>\n",
              "  "
            ],
            "text/plain": [
              "                age\n",
              "count  59946.000000\n",
              "mean      32.340290\n",
              "std        9.452779\n",
              "min       18.000000\n",
              "25%       26.000000\n",
              "50%       30.000000\n",
              "75%       37.000000\n",
              "max      110.000000"
            ]
          },
          "execution_count": 87,
          "metadata": {},
          "output_type": "execute_result"
        }
      ],
      "source": [
        "df[['age']].describe()"
      ]
    },
    {
      "cell_type": "code",
      "execution_count": null,
      "metadata": {
        "colab": {
          "base_uri": "https://localhost:8080/",
          "height": 312
        },
        "id": "rJ8arLyD5cQB",
        "outputId": "a32661ff-8a35-45f0-eb1a-e31c21fc7111"
      },
      "outputs": [
        {
          "data": {
            "text/plain": [
              "[Text(0.5, 1.0, 'Sex count')]"
            ]
          },
          "execution_count": 79,
          "metadata": {},
          "output_type": "execute_result"
        },
        {
          "data": {
            "image/png": "[encoded data removed]",
            "text/plain": [
              "<Figure size 432x288 with 1 Axes>"
            ]
          },
          "metadata": {
            "needs_background": "light"
          },
          "output_type": "display_data"
        }
      ],
      "source": [
        "sns.countplot(x=df['sex']).set(title=\"Sex count\")"
      ]
    },
    {
      "cell_type": "code",
      "execution_count": null,
      "metadata": {
        "colab": {
          "base_uri": "https://localhost:8080/",
          "height": 296
        },
        "id": "qjd2xBfC57sq",
        "outputId": "e5444e7e-e020-4676-b806-54bc32153625"
      },
      "outputs": [
        {
          "data": {
            "text/plain": [
              "<matplotlib.axes._subplots.AxesSubplot at 0x7f3f753f1d30>"
            ]
          },
          "execution_count": 36,
          "metadata": {},
          "output_type": "execute_result"
        },
        {
          "data": {
            "image/png": "[encoded data removed]",
            "text/plain": [
              "<Figure size 432x288 with 1 Axes>"
            ]
          },
          "metadata": {
            "needs_background": "light"
          },
          "output_type": "display_data"
        }
      ],
      "source": [
        "sns.countplot(x=df['orientation'])"
      ]
    },
    {
      "cell_type": "code",
      "execution_count": null,
      "metadata": {
        "colab": {
          "base_uri": "https://localhost:8080/",
          "height": 312
        },
        "id": "EUX_VJAe6dog",
        "outputId": "85bc2e4d-f899-4448-eaa7-be062ad033d4"
      },
      "outputs": [
        {
          "data": {
            "text/plain": [
              "[Text(0.5, 1.0, 'Orientation count per sex')]"
            ]
          },
          "execution_count": 78,
          "metadata": {},
          "output_type": "execute_result"
        },
        {
          "data": {
            "image/png": "[encoded data removed]",
            "text/plain": [
              "<Figure size 432x288 with 1 Axes>"
            ]
          },
          "metadata": {
            "needs_background": "light"
          },
          "output_type": "display_data"
        }
      ],
      "source": [
        "sns.countplot(data=df, \n",
        "              x='orientation', \n",
        "              hue='sex').set(title=\"Orientation count per sex\")"
      ]
    },
    {
      "cell_type": "code",
      "execution_count": null,
      "metadata": {
        "colab": {
          "base_uri": "https://localhost:8080/",
          "height": 690
        },
        "id": "kdYBa5U799Xc",
        "outputId": "5ff0e1f0-4991-4255-8098-7074f93127f1"
      },
      "outputs": [
        {
          "data": {
            "text/plain": [
              "<seaborn.axisgrid.FacetGrid at 0x7f3f6d7101f0>"
            ]
          },
          "execution_count": 77,
          "metadata": {},
          "output_type": "execute_result"
        },
        {
          "data": {
            "image/png": "[encoded data removed]",
            "text/plain": [
              "<Figure size 693.625x648 with 1 Axes>"
            ]
          },
          "metadata": {
            "needs_background": "light"
          },
          "output_type": "display_data"
        }
      ],
      "source": [
        "sns.catplot(data=df, \n",
        "            x='smokes', \n",
        "            y='age', \n",
        "            hue='sex', \n",
        "            kind='violin', \n",
        "            order=['no', 'when drinking', 'sometimes', 'trying to quit', 'yes'], \n",
        "            height=9,\n",
        "            ).set(title=\"Smoking in age groups\")"
      ]
    },
    {
      "cell_type": "code",
      "execution_count": null,
      "metadata": {
        "colab": {
          "base_uri": "https://localhost:8080/",
          "height": 690
        },
        "id": "0sJA6eFDCl8n",
        "outputId": "f81a674b-de0c-4f7c-95ae-91fc3f6b3dc0"
      },
      "outputs": [
        {
          "data": {
            "text/plain": [
              "<seaborn.axisgrid.FacetGrid at 0x7f3f6d3d8970>"
            ]
          },
          "execution_count": 81,
          "metadata": {},
          "output_type": "execute_result"
        },
        {
          "data": {
            "image/png": "[encoded data removed]",
            "text/plain": [
              "<Figure size 693.625x648 with 1 Axes>"
            ]
          },
          "metadata": {
            "needs_background": "light"
          },
          "output_type": "display_data"
        }
      ],
      "source": [
        "sns.catplot(data=df, \n",
        "            x='drugs', \n",
        "            y='age', \n",
        "            hue='sex', \n",
        "            kind='violin', \n",
        "            order=['never', 'sometimes', 'often'], \n",
        "            height=9,\n",
        "            ).set(title=\"Drugs in age groups\")"
      ]
    },
    {
      "cell_type": "code",
      "execution_count": null,
      "metadata": {
        "colab": {
          "base_uri": "https://localhost:8080/",
          "height": 690
        },
        "id": "qZ3VuGOPDPit",
        "outputId": "d4af3094-4a98-47b6-972a-528c1d1fab7d"
      },
      "outputs": [
        {
          "data": {
            "text/plain": [
              "<seaborn.axisgrid.FacetGrid at 0x7f3f6ac9aaf0>"
            ]
          },
          "execution_count": 90,
          "metadata": {},
          "output_type": "execute_result"
        },
        {
          "data": {
            "image/png": "[encoded data removed]",
            "text/plain": [
              "<Figure size 693.625x648 with 1 Axes>"
            ]
          },
          "metadata": {
            "needs_background": "light"
          },
          "output_type": "display_data"
        }
      ],
      "source": [
        "sns.catplot(data=df, \n",
        "            x='drinks', \n",
        "            y='age', \n",
        "            hue='sex', \n",
        "            kind='violin', \n",
        "            order=['not at all', 'rarely', 'socially', 'often', 'very often', 'desperately'], \n",
        "            height=9,\n",
        "            ).set(title=\"Drinking in age groups\")"
      ]
    },
    {
      "cell_type": "code",
      "execution_count": null,
      "metadata": {
        "id": "C65qAySQSGen"
      },
      "outputs": [],
      "source": [
        "# imputing danych xgboostem\n",
        "# labelencoder tam gdzie jest hierarchia, onehot tam gdzie nie ma\n",
        "# nie brac tych essay... kolumn do X\n",
        "# potem clustering: k-means i dbscan?\n",
        "# https://towardsdatascience.com/unsupervised-classification-project-building-a-movie-recommender-with-clustering-analysis-and-4bab0738efe6\n",
        "# miceforest? https://pypi.org/project/miceforest/"
      ]
    },
    {
      "cell_type": "code",
      "execution_count": null,
      "metadata": {
        "id": "2KJhShcYfkn4"
      },
      "outputs": [],
      "source": []
    }
  ],
  "metadata": {
    "colab": {
      "provenance": []
    },
    "kernelspec": {
      "display_name": "Python 3",
      "language": "python",
      "name": "python3"
    },
    "language_info": {
      "name": "python",
      "version": "3.10.10"
    },
    "vscode": {
      "interpreter": {
        "hash": "386358fdc1fd0de6900d07d882f42fc953f23690ede61ed9b4d9d7c82a6402d7"
      }
    }
  },
  "nbformat": 4,
  "nbformat_minor": 0
}
